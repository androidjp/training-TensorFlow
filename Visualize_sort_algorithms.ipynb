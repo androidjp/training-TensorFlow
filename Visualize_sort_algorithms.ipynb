{
 "cells": [
  {
   "cell_type": "markdown",
   "metadata": {},
   "source": [
    "# 相关依赖库\n",
    "* opencv （实时渲染）\n",
    "* numpy （矩阵与数组操作）\n",
    "* random （生成随机数）\n",
    "* time （schedule定时相关）"
   ]
  },
  {
   "cell_type": "code",
   "execution_count": 2,
   "metadata": {},
   "outputs": [],
   "source": [
    "import cv2\n",
    "import numpy as np\n",
    "import time\n",
    "import random"
   ]
  },
  {
   "cell_type": "markdown",
   "metadata": {},
   "source": [
    "# 基础流程渲染类DataSeq"
   ]
  },
  {
   "cell_type": "code",
   "execution_count": 3,
   "metadata": {},
   "outputs": [],
   "source": [
    "class DataSeq:\n",
    "    WHITE = (255,255,255)\n",
    "    RED = (0,0,255)\n",
    "    BLACK = (0,0,0)\n",
    "    YELLOW = (0,127,255)\n",
    "    def __init__(self, Length, time_interval=1, sort_title=\"Figure\", repeatition=False):\n",
    "        self.data = [x for x in range(Length)]\n",
    "        if repeatition:\n",
    "            self.data = random.choices(self.data, k=Length)\n",
    "        else:\n",
    "            self.Shuffle()\n",
    "        self.length = Length\n",
    "\n",
    "        self.SetTimeInterval(time_interval)\n",
    "        self.SetSortType(sort_title)\n",
    "        self.Getfigure()\n",
    "        self.InitTime()\n",
    "\n",
    "        self.Visualize()\n",
    "\n",
    "    def InitTime(self):\n",
    "        self.start=time.time()\n",
    "        self.time=0\n",
    "        self.StopTimer()\n",
    "\n",
    "    def StartTimer(self):\n",
    "        self.start_flag=True\n",
    "        self.start = time.time()\n",
    "\n",
    "    def StopTimer(self):\n",
    "        self.start_flag=False\n",
    "\n",
    "    def GetTime(self):\n",
    "        if self.start_flag:\n",
    "            self.time = time.time()-self.start\n",
    "\n",
    "    def SetTimeInterval(self, time_interval):\n",
    "        self.time_interval=time_interval\n",
    "\n",
    "    def SetSortType(self, sort_title):\n",
    "        self.sort_title=sort_title\n",
    "\n",
    "    def Shuffle(self):\n",
    "        random.shuffle(self.data)\n",
    "\n",
    "    def Getfigure(self):\n",
    "        _bar_width = 5\n",
    "        figure = np.full((self.length*_bar_width,self.length*_bar_width,3), 255,dtype=np.uint8)\n",
    "        for i in range(self.length):\n",
    "            val = self.data[i]\n",
    "            figure[-1-val*_bar_width:, i*_bar_width:i*_bar_width+_bar_width] = self.GetColor(val, self.length)\n",
    "        self._bar_width = _bar_width\n",
    "        self.figure = figure\n",
    "\n",
    "    @staticmethod\n",
    "    def GetColor(val, TOTAL):\n",
    "        return (120+val*255//(2*TOTAL), 255-val*255//(2*TOTAL), 0)\n",
    "\n",
    "    def _set_figure(self, idx, val):\n",
    "        min_col = idx*self._bar_width\n",
    "        max_col = min_col+self._bar_width\n",
    "        min_row = -1-val*self._bar_width\n",
    "        self.figure[ : , min_col:max_col] = self.WHITE\n",
    "        self.figure[ min_row: , min_col:max_col] = self.GetColor(val, self.length)\n",
    "\n",
    "    def SetColor(self, img, marks, color):\n",
    "        for idx in marks:\n",
    "            min_col = idx*self._bar_width\n",
    "            max_col = min_col+self._bar_width\n",
    "            min_row = -1-self.data[idx]*self._bar_width\n",
    "            img[min_row:, min_col:max_col] = color\n",
    "    def Mark(self, img, marks, color):\n",
    "        self.SetColor(img, marks, color)\n",
    "\n",
    "    def SetVal(self, idx, val):\n",
    "        self.data[idx] = val\n",
    "        self._set_figure(idx, val)\n",
    "\n",
    "        self.Visualize((idx,))\n",
    "\n",
    "    def Swap(self, idx1, idx2):\n",
    "        self.data[idx1], self.data[idx2] = self.data[idx2], self.data[idx1]\n",
    "        self._set_figure(idx1, self.data[idx1])\n",
    "        self._set_figure(idx2, self.data[idx2])\n",
    "\n",
    "        self.Visualize((idx1, idx2))\n",
    "\n",
    "    def Visualize(self, mark1=None, mark2=None):\n",
    "        img = self.figure.copy()\n",
    "        if mark2:\n",
    "            self.Mark( img, mark2, self.YELLOW)\n",
    "        if mark1:\n",
    "            self.Mark( img, mark1, self.RED)\n",
    "        if img.shape[1] > 500:\n",
    "            img = cv2.resize(img, (500,500))\n",
    "        \n",
    "        self.GetTime()\n",
    "        cv2.putText(img, self.sort_title+\" Time:%02.2fs\"%self.time, (20,20), cv2.FONT_HERSHEY_PLAIN, 1, self.YELLOW, 1)\n",
    "        cv2.imshow(self.sort_title, img)\n",
    "        cv2.waitKey(self.time_interval)"
   ]
  },
  {
   "cell_type": "markdown",
   "metadata": {},
   "source": [
    "# 基本入口方法"
   ]
  },
  {
   "cell_type": "code",
   "execution_count": 6,
   "metadata": {},
   "outputs": [],
   "source": [
    "def execute_sort(sortFuncName):\n",
    "    ds=DataSeq(64,1, sort_title)\n",
    "    ds.Visualize()\n",
    "    ds.StartTimer()\n",
    "    sortFuncName(ds)\n",
    "    ds.StopTimer()\n",
    "    ds.SetTimeInterval(0)\n",
    "    ds.Visualize()"
   ]
  },
  {
   "cell_type": "markdown",
   "metadata": {},
   "source": [
    "# 排序"
   ]
  },
  {
   "cell_type": "markdown",
   "metadata": {},
   "source": [
    "## 冒泡排序"
   ]
  },
  {
   "cell_type": "code",
   "execution_count": 19,
   "metadata": {},
   "outputs": [],
   "source": [
    "def bubble_sort(ds):\n",
    "    assert isinstance(ds, DataSeq), 'Type Error'\n",
    "    Len = ds.length\n",
    "    for i in range(Len-1, -1,-1):\n",
    "        for j in range(0,i,1):\n",
    "            if ds.data[j] > ds.data[j+1]:\n",
    "                ds.Swap(j, j+1)"
   ]
  },
  {
   "cell_type": "markdown",
   "metadata": {},
   "source": [
    "## 桶排序\n",
    "依赖：\n",
    "* copy"
   ]
  },
  {
   "cell_type": "code",
   "execution_count": 21,
   "metadata": {},
   "outputs": [],
   "source": [
    "def bucket_sort(ds):\n",
    "    \"\"\"\n",
    "        桶排序只适用于整数排序，且最大元素不能比数组元素大太多的情况\n",
    "    \"\"\"\n",
    "    assert isinstance(ds, DataSeq), \"Type Error\"\n",
    "\n",
    "    Length = ds.length\n",
    "    bucket = [0 for _ in range(Length)]\n",
    "    for i in range(Length):\n",
    "        bucket[ds.data[i]] += 1\n",
    "    j=0\n",
    "    for i in range(Length):\n",
    "        tmp = bucket[i]\n",
    "        while tmp>0:\n",
    "            ds.SetVal(j, i)\n",
    "            tmp-=1\n",
    "            j+=1"
   ]
  },
  {
   "cell_type": "markdown",
   "metadata": {},
   "source": [
    "## 环排序"
   ]
  },
  {
   "cell_type": "code",
   "execution_count": 24,
   "metadata": {},
   "outputs": [],
   "source": [
    "def cycle_sort(ds):\n",
    "    \"\"\"\n",
    "        环排序只适用于整数排序，且数正好范围在[0,N-1]内，且只有少量重复元素，不稳定\n",
    "    \"\"\"\n",
    "    assert isinstance(ds, DataSeq), \"Type Error\"\n",
    "\n",
    "    Length = ds.length\n",
    "    # 重复元素的列表\n",
    "    repeatIdxs = []\n",
    "    for i in range(Length):\n",
    "        currIdx=i\n",
    "        nextIdx=ds.data[currIdx]\n",
    "        while ds.data[nextIdx] != nextIdx:\n",
    "            ds.Swap(currIdx, nextIdx)\n",
    "            nextIdx=ds.data[currIdx]\n",
    "        if ds.data[i] != i:\n",
    "            repeatIdxs.append(i)\n",
    "    # 剩下少数重复元素，整个数组基本有序，使用插入排序\n",
    "    # print(repeatIdxs)\n",
    "    for p in range(Length):\n",
    "        tmp = ds.data[p]\n",
    "        i=p\n",
    "        while i>=1 and ds.data[i-1]>tmp:\n",
    "            ds.SetVal(i, ds.data[i-1])\n",
    "            i-=1\n",
    "        ds.SetVal(i, tmp)"
   ]
  },
  {
   "cell_type": "markdown",
   "metadata": {},
   "source": [
    "## 堆排序"
   ]
  },
  {
   "cell_type": "code",
   "execution_count": 26,
   "metadata": {},
   "outputs": [],
   "source": [
    "def CheckMaxHeap(data, size, child):\n",
    "    if child <= size:\n",
    "        father = child//2\n",
    "        if data[child]>data[father]:\n",
    "            print(\"error found\")\n",
    "        CheckMaxHeap(data, size, child*2)\n",
    "        CheckMaxHeap(data, size, child*2+1)\n",
    "\n",
    "\n",
    "def heap_sort(ds, time_interval=1):\n",
    "    assert isinstance(ds, DataSeq), \"Type Error\"\n",
    "\n",
    "    Length = ds.length\n",
    "    # 先构建最大堆\n",
    "    for i in range(1,Length):\n",
    "        X = ds.data[i]\n",
    "        child = i\n",
    "        father = (child+1)//2-1\n",
    "        while X>ds.data[father] and father>=0:\n",
    "            ds.SetVal(child, ds.data[father])\n",
    "            ds.Visualize((child,father))\n",
    "            child=father\n",
    "            father = (child+1)//2-1\n",
    "        ds.SetVal(child, X)\n",
    "        ds.Visualize((child,))\n",
    "\n",
    "    # 检查最大堆是否正确\n",
    "    # data = [100000]+ds.data\n",
    "    # print(data)\n",
    "    # CheckMaxHeap(data, ds.length, 1)\n",
    "\n",
    "    # 再反向弹出\n",
    "    p=ds.length-1\n",
    "    while(p>0):\n",
    "        maxval = ds.data[0]\n",
    "        last = ds.data[p]\n",
    "        father = 0\n",
    "        child = (father+1)*2-1\n",
    "        while child<p:\n",
    "            if child!=(p-1) and ds.data[child]<ds.data[child+1]:\n",
    "                child += 1\n",
    "            if ds.data[child]<last:\n",
    "                break\n",
    "            else:\n",
    "                ds.SetVal(father, ds.data[child])\n",
    "                ds.Visualize((father, child))\n",
    "                father = child\n",
    "                child = (father+1)*2-1\n",
    "        ds.SetVal(father, last)\n",
    "        ds.SetVal(p,maxval)\n",
    "        ds.Visualize((p,))\n",
    "        p-=1"
   ]
  },
  {
   "cell_type": "markdown",
   "metadata": {},
   "source": [
    "## 插入排序"
   ]
  },
  {
   "cell_type": "code",
   "execution_count": 28,
   "metadata": {},
   "outputs": [],
   "source": [
    "def insertion_sort(ds, time_interval=1):\n",
    "    assert isinstance(ds, DataSeq), \"Type Error\"\n",
    "\n",
    "    Length = ds.length\n",
    "    for i in range(Length):\n",
    "        tmp = ds.data[i]\n",
    "        j=i\n",
    "        while j>=1 and ds.data[j-1]>tmp:\n",
    "            ds.SetVal(j, ds.data[j-1])\n",
    "            j-=1\n",
    "        ds.SetVal(j, tmp)"
   ]
  },
  {
   "cell_type": "markdown",
   "metadata": {},
   "source": [
    "## 归并排序"
   ]
  },
  {
   "cell_type": "code",
   "execution_count": 29,
   "metadata": {},
   "outputs": [],
   "source": [
    "def Merge(ds, L, R, RightEnd, time_interval):\n",
    "    tmpData = copy.copy(ds.data)\n",
    "    LeftEnd = R-1\n",
    "    i=L\n",
    "    j=R\n",
    "    k=L\n",
    "    # import ipdb; ipdb.set_trace()\n",
    "    while i<=LeftEnd and j<=RightEnd:\n",
    "        if tmpData[i] < tmpData[j]:\n",
    "            ds.SetVal(k, tmpData[i]) \n",
    "            i+=1\n",
    "        else:\n",
    "            ds.SetVal(k, tmpData[j]) \n",
    "            j+=1\n",
    "        k+=1\n",
    "    while i<=LeftEnd:\n",
    "        ds.SetVal(k, tmpData[i]) \n",
    "        k+=1\n",
    "        i+=1\n",
    "    while j<=RightEnd:\n",
    "        ds.SetVal(k, tmpData[j]) \n",
    "        k+=1\n",
    "        j+=1\n",
    "\n",
    "def Sort(ds, L, RightEnd, time_interval):\n",
    "    # import ipdb; ipdb.set_trace()\n",
    "    if RightEnd>L:\n",
    "        mid = (L+RightEnd)//2\n",
    "        Sort(ds,L,mid, time_interval)\n",
    "        Sort(ds,mid+1,RightEnd, time_interval)\n",
    "        Merge(ds,L,mid+1,RightEnd, time_interval)\n",
    "\n",
    "\n",
    "\n",
    "def merge_sort(ds, time_interval=1):\n",
    "    assert isinstance(ds, DataSeq), \"Type Error\"\n",
    "\n",
    "    Length = ds.length\n",
    "    Sort(ds, 0,Length-1, time_interval)"
   ]
  },
  {
   "cell_type": "markdown",
   "metadata": {},
   "source": [
    "## 快排"
   ]
  },
  {
   "cell_type": "code",
   "execution_count": 30,
   "metadata": {},
   "outputs": [],
   "source": [
    "def GetPivot(ds, Left, Right):\n",
    "    Mid = (Left+Right)//2\n",
    "    if ds.data[Left]>ds.data[Right]:\n",
    "        ds.Swap(Left, Right)\n",
    "    if ds.data[Left]>ds.data[Mid]:\n",
    "        ds.Swap(Left, Mid)\n",
    "    if ds.data[Mid]>ds.data[Right]:\n",
    "        ds.Swap(Mid, Right)\n",
    "    ds.Swap(Mid, Right-1)\n",
    "    return ds.data[Right-1]\n",
    "\n",
    "def Qsort(ds, Left, Right):\n",
    "    Cutoff = 10\n",
    "    if Cutoff <= Right-Left:\n",
    "        Pivot = GetPivot(ds, Left, Right)\n",
    "        low=Left+1\n",
    "        high=Right-2\n",
    "        while True:\n",
    "            while ds.data[low]<Pivot :\n",
    "                low+=1\n",
    "            while ds.data[high]>Pivot:\n",
    "                high-=1\n",
    "            if low<high:\n",
    "                ds.Swap(low, high)\n",
    "                low +=1\n",
    "                high-=1\n",
    "            else:\n",
    "                break\n",
    "        ds.Swap(low, Right-1)\n",
    "        Qsort(ds, Left, low-1)\n",
    "        Qsort(ds, low+1, Right)\n",
    "\n",
    "    else:\n",
    "        # 元素太少， 用插入排序\n",
    "        for p in range(Left,Right+1):\n",
    "            tmp = ds.data[p]\n",
    "            i=p\n",
    "            while i>=1 and ds.data[i-1]>tmp:\n",
    "                ds.SetVal(i, ds.data[i-1])\n",
    "                i-=1\n",
    "            ds.SetVal(i, tmp)\n",
    "\n",
    "def quick_sort(ds):\n",
    "    assert isinstance(ds, DataSeq), \"Type Error\"\n",
    "\n",
    "    Length = ds.length\n",
    "    Qsort(ds, 0, Length-1)"
   ]
  },
  {
   "cell_type": "markdown",
   "metadata": {},
   "source": [
    "## 选择排序"
   ]
  },
  {
   "cell_type": "code",
   "execution_count": 31,
   "metadata": {},
   "outputs": [],
   "source": [
    "def selection_sort(ds):\n",
    "    assert isinstance(ds, DataSeq), \"Type Error\"\n",
    "\n",
    "    Length = ds.length\n",
    "    for i in range(Length):\n",
    "        for j in range(i, Length):\n",
    "            if ds.data[j] < ds.data[i]:\n",
    "                ds.Swap(i,j)"
   ]
  },
  {
   "cell_type": "markdown",
   "metadata": {},
   "source": [
    "## 希尔排序"
   ]
  },
  {
   "cell_type": "code",
   "execution_count": 33,
   "metadata": {},
   "outputs": [],
   "source": [
    "def shell_sort(ds):\n",
    "    assert isinstance(ds, DataSeq), \"Type Error\"\n",
    "\n",
    "    Length = ds.length\n",
    "    D = Length//2\n",
    "    while D>0:\n",
    "        i=0\n",
    "        while i<Length:\n",
    "            tmp = ds.data[i]\n",
    "\n",
    "            j=i\n",
    "            while j>=1 and ds.data[j-D]>tmp:\n",
    "                ds.SetVal(j, ds.data[j-D])\n",
    "                j-=D\n",
    "            ds.SetVal(j, tmp)\n",
    "\n",
    "            i+=D\n",
    "        D//=2"
   ]
  },
  {
   "cell_type": "code",
   "execution_count": 36,
   "metadata": {},
   "outputs": [],
   "source": [
    "execute_sort(quick_sort)"
   ]
  },
  {
   "cell_type": "code",
   "execution_count": null,
   "metadata": {},
   "outputs": [],
   "source": []
  }
 ],
 "metadata": {
  "kernelspec": {
   "display_name": "Python 3",
   "language": "python",
   "name": "python3"
  },
  "language_info": {
   "codemirror_mode": {
    "name": "ipython",
    "version": 3
   },
   "file_extension": ".py",
   "mimetype": "text/x-python",
   "name": "python",
   "nbconvert_exporter": "python",
   "pygments_lexer": "ipython3",
   "version": "3.7.1"
  }
 },
 "nbformat": 4,
 "nbformat_minor": 2
}
