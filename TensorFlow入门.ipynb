{
 "cells": [
  {
   "cell_type": "markdown",
   "metadata": {
    "scrolled": false
   },
   "source": [
    "### 第一个普通的tensorflow demo启动过程如下：\n"
   ]
  },
  {
   "cell_type": "code",
   "execution_count": 3,
   "metadata": {},
   "outputs": [
    {
     "name": "stdout",
     "output_type": "stream",
     "text": [
      "b'Hello ,TF'\n"
     ]
    }
   ],
   "source": [
    "import tensorflow as tf\n",
    "hello = tf.constant('Hello ,TF')\n",
    "sess = tf.Session()\n",
    "print(sess.run(hello))"
   ]
  },
  {
   "cell_type": "markdown",
   "metadata": {
    "collapsed": true
   },
   "source": [
    "## 第一个小Demo--- 生成三维数据"
   ]
  },
  {
   "cell_type": "code",
   "execution_count": 14,
   "metadata": {},
   "outputs": [
    {
     "name": "stdout",
     "output_type": "stream",
     "text": [
      "0 [[ 0.19164234 -0.11989146]] [ 0.90815353]\n",
      "20 [[ 0.06188139  0.0751335 ]] [ 0.38528293]\n",
      "40 [[ 0.08628521  0.16677572]] [ 0.32457691]\n",
      "60 [[ 0.0956113   0.19095987]] [ 0.30703396]\n",
      "80 [[ 0.09866986  0.19750349]] [ 0.30200484]\n",
      "100 [[ 0.09960821  0.19930395]] [ 0.30057001]\n",
      "120 [[ 0.09988642  0.19980475]] [ 0.30016184]\n",
      "140 [[ 0.09996738  0.19994505]] [ 0.30004588]\n",
      "160 [[ 0.09999068  0.19998451]] [ 0.30001301]\n",
      "180 [[ 0.09999735  0.19999562]] [ 0.30000371]\n",
      "200 [[ 0.09999924  0.19999875]] [ 0.30000106]\n"
     ]
    }
   ],
   "source": [
    "\n",
    "\n",
    "import tensorflow as tf\n",
    "import numpy as np\n",
    "\n",
    "# 使用 NumPy 生成假数据(phony data), 总共 100 个点.\n",
    "x_data = np.float32(np.random.rand(2, 100)) # 随机输入\n",
    "y_data = np.dot([0.100, 0.200], x_data) + 0.300\n",
    "\n",
    "# 构造一个线性模型\n",
    "# \n",
    "b = tf.Variable(tf.zeros([1]))\n",
    "W = tf.Variable(tf.random_uniform([1, 2], -1.0, 1.0))\n",
    "y = tf.matmul(W, x_data) + b\n",
    "\n",
    "# 最小化方差\n",
    "loss = tf.reduce_mean(tf.square(y - y_data))\n",
    "optimizer = tf.train.GradientDescentOptimizer(0.5)\n",
    "train = optimizer.minimize(loss)\n",
    "\n",
    "# 初始化变量\n",
    "init = tf.initialize_all_variables()\n",
    "\n",
    "# 启动图 (graph)\n",
    "sess = tf.Session()\n",
    "sess.run(init)\n",
    "\n",
    "# 拟合平面\n",
    "for step in range(0, 201):\n",
    "    sess.run(train)\n",
    "    if step % 20 == 0:\n",
    "        print(step, sess.run(W), sess.run(b))\n",
    "\n",
    "# 得到最佳拟合结果 W: [[0.100  0.200]], b: [0.300]"
   ]
  },
  {
   "cell_type": "markdown",
   "metadata": {},
   "source": [
    "# TF 基本使用\n",
    "\n",
    "> TF 特点：\n",
    "> * 本质上是： 一个编程系统\n",
    "> * 使用图（graph）来表示计算任务\n",
    "> * 在 被称为 会话（Session）的上下文（context）中 执行图\n",
    "> * 使用`tensor` 表示数据, 每一个`Tensor`表示一个类型化的多维数组。\n",
    "> * 图中的节点称为`op(operation)`，一个`op` 执行计算，获得0或多个`Tensor`\n",
    "> * 通过`变量variable`维护状态\n",
    "> * 使用 feed 和 fetch 可以 为 任意的操作（arbitrary operation） 赋值或者从其中获取数据\n",
    "\n",
    "### TF运行过程\n",
    "一个TF图描述一个计算的过程，图在 会话 中被启动，会话将图的`op`分发到`CPU`,`GPU` 等设备中，并同时提供执行`op`的方法。 而这些方法执行完毕之后，将产生的`tensor`返回。 在`Python`中， 返回的`tensor`是`numpy`的`ndarray`对象（也就是N维矩阵）\n",
    "\n",
    "TF程序一般被组织成两个阶段：\n",
    "\n",
    "**(1) 构建阶段**\n",
    "* `op`的执行步骤被描述成一个图\n"
   ]
  },
  {
   "cell_type": "code",
   "execution_count": 15,
   "metadata": {
    "collapsed": true
   },
   "outputs": [],
   "source": [
    "import tensorflow as tf\n",
    "\n",
    "# 创建一个常量 op, 产生一个 1x2 矩阵. 这个 op 被作为一个节点\n",
    "# 加到默认图中.\n",
    "#\n",
    "# 构造器的返回值代表该常量 op 的返回值.\n",
    "matrix1 = tf.constant([[3., 3.]])\n",
    "\n",
    "# 创建另外一个常量 op, 产生一个 2x1 矩阵.\n",
    "matrix2 = tf.constant([[2.],[2.]])\n",
    "\n",
    "# 创建一个矩阵乘法 matmul op , 把 'matrix1' 和 'matrix2' 作为输入.\n",
    "# 返回值 'product' 代表矩阵乘法的结果.\n",
    "product = tf.matmul(matrix1, matrix2)"
   ]
  },
  {
   "cell_type": "markdown",
   "metadata": {},
   "source": [
    "**(2) 执行阶段**\n",
    "* 使用`session`执行`graph`中的`op`"
   ]
  },
  {
   "cell_type": "code",
   "execution_count": 16,
   "metadata": {},
   "outputs": [
    {
     "name": "stdout",
     "output_type": "stream",
     "text": [
      "[[ 12.]]\n"
     ]
    }
   ],
   "source": [
    "# 启动默认图\n",
    "sess = tf.Session()\n",
    "result = sess.run(product)\n",
    "print(result)\n",
    "\n",
    "# task finished, session close.\n",
    "sess.close()"
   ]
  },
  {
   "cell_type": "markdown",
   "metadata": {},
   "source": [
    "**TF将图形定义转换为分布式执行操作，so that，充分利用可用的计算资源（如CPU/GPU）**\n",
    "一般你不需要显式指定使用 CPU 还是 GPU, TensorFlow 能自动检测. 如果检测到 GPU, TensorFlow 会尽可能地利用找到的第一个 GPU 来执行操作.\n",
    "\n",
    "**如果你有足够多的GPU，那就更好啦**\n",
    "如果机器上有超过一个可用的 GPU, 除第一个外的其它 GPU 默认是不参与计算的. 为了让 TensorFlow 使用这些 GPU, 你必须将 `op` 明确指派给它们执行. `with...Device` 语句用来指派特定的 CPU 或 GPU 执行操作"
   ]
  },
  {
   "cell_type": "code",
   "execution_count": null,
   "metadata": {
    "collapsed": true
   },
   "outputs": [],
   "source": [
    "# with tf.Session() as sess:\n",
    "#   with tf.device(\"/gpu:1\"):\n",
    "#     matrix1 = tf.constant([[3., 3.]])\n",
    "#     matrix2 = tf.constant([[2.],[2.]])\n",
    "#     product = tf.matmul(matrix1, matrix2)\n",
    "#     ..."
   ]
  },
  {
   "cell_type": "markdown",
   "metadata": {},
   "source": [
    "#### TF 支持的编程语言\n",
    "* C\n",
    "* C++\n",
    "* Python （易用）\n",
    "> 三种语言的 会话库（`session libraries`）是一致的。"
   ]
  },
  {
   "cell_type": "code",
   "execution_count": 17,
   "metadata": {},
   "outputs": [
    {
     "name": "stdout",
     "output_type": "stream",
     "text": [
      "[[3]]\n"
     ]
    }
   ],
   "source": [
    "import numpy as np\n",
    "arrA = np.array([[0,1]])\n",
    "arrB = np.array([[2],[3]])\n",
    "result = np.dot(arrA, arrB)\n",
    "print(result)"
   ]
  },
  {
   "cell_type": "markdown",
   "metadata": {},
   "source": [
    "## 交互式使用\n",
    "---\n",
    "目的：方便使用如`IPython`等的交互环境, 并且，避免使用一个变量来持有会话。\n",
    "怎么做:\n",
    "* `InterativeSession` insead of `Session`\n",
    "* `Tensor.eval()`+ `Operation.run()` instead of `Session.run()`"
   ]
  },
  {
   "cell_type": "code",
   "execution_count": 38,
   "metadata": {},
   "outputs": [
    {
     "name": "stdout",
     "output_type": "stream",
     "text": [
      "[-2. -1.]\n"
     ]
    }
   ],
   "source": [
    "import tensorflow as tf\n",
    "#  进入一个交互式 TF会话\n",
    "sess = tf.InteractiveSession()\n",
    "\n",
    "x = tf.Variable([1.0, 2.0])\n",
    "a = tf.constant([3.0, 3.0])\n",
    "\n",
    "# 使用初始化器 initializer op 的 run() 方法初始化 ‘x’\n",
    "x.initializer.run()\n",
    "\n",
    "# tf.sub() 表示减法，op 减 op\n",
    "res = tf.subtract(x,a)\n",
    "print(res.eval())"
   ]
  },
  {
   "cell_type": "markdown",
   "metadata": {},
   "source": [
    "## 变量\n",
    "Variable  用于维护图执行过程中的状态信息。"
   ]
  },
  {
   "cell_type": "code",
   "execution_count": 40,
   "metadata": {},
   "outputs": [
    {
     "name": "stdout",
     "output_type": "stream",
     "text": [
      "0\n",
      "1\n",
      "2\n",
      "3\n"
     ]
    }
   ],
   "source": [
    "#  例子：计数器\n",
    "\n",
    "# -----------------------------------------------------------------\n",
    "# 构建阶段\n",
    "\n",
    "state = tf.Variable(0, name=\"counter\")\n",
    "\n",
    "# 创建OP， 作用：使得 state 增加 1\n",
    "one = tf.constant(1)\n",
    "new_value = tf.add(state, one)\n",
    "update = tf.assign(state, new_value)\n",
    "\n",
    "# 启动图 之后， 变量需要经过‘初始化’ ，首先需要增加一个 `初始化`op 进到图中\n",
    "init_op = tf.initialize_all_variables()\n",
    "\n",
    "# -----------------------------------------------------------------\n",
    "# 执行阶段\n",
    "\n",
    "#  计数开始\n",
    "with tf.Session() as sess:\n",
    "    sess.run(init_op)\n",
    "    # 打印 state 初始值\n",
    "    print(sess.run(state))\n",
    "    # 运行op ,update `state`\n",
    "    for _ in range(3):\n",
    "        sess.run(update)\n",
    "        print(sess.run(state))\n"
   ]
  },
  {
   "cell_type": "markdown",
   "metadata": {},
   "source": [
    "通常会将一个统计模型中的参数表示为一组变量. 例如, 你可以将一个神经网络的权重作为某个变量存储在一个 tensor 中. 在训练过程中, 通过重复运行训练图, 更新这个 tensor.\n",
    "\n",
    "### Fetch\n",
    "Session 对象 run() 是执行图，\n",
    "tensor  你可以理解为是：一个数据结构（一个对象，这个对象可以装矩阵等数据）\n",
    "\n",
    "所以，如果想拿到run()的结果，就用一个tensor去装 结果回来。"
   ]
  },
  {
   "cell_type": "code",
   "execution_count": 48,
   "metadata": {},
   "outputs": [
    {
     "name": "stdout",
     "output_type": "stream",
     "text": [
      "input1\n",
      " Tensor(\"Const_45:0\", shape=(), dtype=float32)\n",
      "state\n",
      " <tf.Variable 'counter_5:0' shape=() dtype=int32_ref>\n",
      "乘法mul\n",
      " Tensor(\"Mul_6:0\", shape=(), dtype=float32)\n",
      "执行加法 和 乘法，得到结果： [21.0, 7.0]\n"
     ]
    }
   ],
   "source": [
    "input1 = tf.constant(3.0)\n",
    "input2 = tf.constant(2.0)\n",
    "input3 = tf.constant(5.0)\n",
    "intermed = tf.add(input2, input3)\n",
    "mul = tf.multiply(input1, intermed)\n",
    "\n",
    "# 所有变量都是 tensor\n",
    "print('input1\\n', input1)\n",
    "print('state\\n', state)\n",
    "print('乘法mul\\n', mul)\n",
    "\n",
    "with tf.Session() as sess:\n",
    "    # 同时获取 两个 op 执行的结果， 放到 一个 tensor `result` 中\n",
    "    result = sess.run([mul, intermed])\n",
    "    print('执行加法 和 乘法，得到结果：', result)"
   ]
  },
  {
   "cell_type": "markdown",
   "metadata": {},
   "source": [
    "### Feed\n",
    "TensorFlow提供了Feed机制：可以临时替代图中的任意操作中的 tensor ，可以对图中任何操作提交补丁，直接插入一个 tensor。\n",
    "\n",
    "> feed 使用一个tensor 值  临时替换一个操作的输出结果。你可以提供 feed 数据作为 run() 调用的参数. feed 只在调用它的方法内有效, 方法结束, feed 就会消失. 最常见的用例是将某些特殊的操作指定为 \"feed\" 操作, 标记的方法是使用 tf.placeholder() 为这些操作创建占位符"
   ]
  },
  {
   "cell_type": "code",
   "execution_count": 51,
   "metadata": {},
   "outputs": [
    {
     "name": "stdout",
     "output_type": "stream",
     "text": [
      "[array([ 14.], dtype=float32)]\n"
     ]
    }
   ],
   "source": [
    "input1 = tf.placeholder(tf.float32)\n",
    "input2 = tf.placeholder(tf.float32)\n",
    "output = tf.multiply(input1, input2)\n",
    "\n",
    "with tf.Session() as sess:\n",
    "    print(sess.run([output], feed_dict={input1:[7.],input2:[2.]}))\n",
    "    "
   ]
  }
 ],
 "metadata": {
  "kernelspec": {
   "display_name": "Python 3",
   "language": "python",
   "name": "python3"
  },
  "language_info": {
   "codemirror_mode": {
    "name": "ipython",
    "version": 3
   },
   "file_extension": ".py",
   "mimetype": "text/x-python",
   "name": "python",
   "nbconvert_exporter": "python",
   "pygments_lexer": "ipython3",
   "version": "3.6.3"
  }
 },
 "nbformat": 4,
 "nbformat_minor": 2
}
