{
 "cells": [
  {
   "cell_type": "code",
   "execution_count": 2,
   "metadata": {},
   "outputs": [],
   "source": [
    "### 相关网址\n",
    "* [this](https://cuiqingcai.com/3472.html)"
   ]
  },
  {
   "cell_type": "code",
   "execution_count": null,
   "metadata": {},
   "outputs": [],
   "source": [
    "import scrapy as sp\n",
    "import re\n",
    "from bs4 import BeautifulSoup\n",
    "from scrapy.http import Request"
   ]
  },
  {
   "cell_type": "code",
   "execution_count": null,
   "metadata": {},
   "outputs": [],
   "source": [
    "class DingdianItem(sp.Item):\n",
    "    name = sp.Field()\n",
    "    author = sp.Field()\n",
    "    novelurl = sp.Field()\n",
    "    serialstatus = sp.Field()\n",
    "    serialnumber = sp.Field()\n",
    "    category = sp.Field()\n",
    "    name_id = sp.Field()"
   ]
  },
  {
   "cell_type": "code",
   "execution_count": null,
   "metadata": {},
   "outputs": [],
   "source": [
    "class MySpider(sp.Spider):\n",
    "    name = 'dingdian'\n",
    "    allowed_domians = ['23wx.com']\n",
    "    bash_url = 'http://www.23wx.com/class/'\n",
    "    urlEnd = '.html'\n",
    "    \n",
    "    def start_requests(self):\n",
    "        for i in range(1,11):\n",
    "            url = self.bash_url + str(i) + '_1' + self.urlEnd\n",
    "            yield Request(url, self.parse)\n",
    "            \n",
    "    def parse():\n",
    "        pass"
   ]
  },
  {
   "cell_type": "code",
   "execution_count": null,
   "metadata": {},
   "outputs": [],
   "source": []
  }
 ],
 "metadata": {
  "kernelspec": {
   "display_name": "Python 3",
   "language": "python",
   "name": "python3"
  },
  "language_info": {
   "codemirror_mode": {
    "name": "ipython",
    "version": 3
   },
   "file_extension": ".py",
   "mimetype": "text/x-python",
   "name": "python",
   "nbconvert_exporter": "python",
   "pygments_lexer": "ipython3",
   "version": "3.6.5"
  }
 },
 "nbformat": 4,
 "nbformat_minor": 2
}
